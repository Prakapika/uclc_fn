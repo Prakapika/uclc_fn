{
 "cells": [
  {
   "cell_type": "code",
   "execution_count": 4,
   "id": "f422bd8a",
   "metadata": {},
   "outputs": [
    {
     "name": "stdout",
     "output_type": "stream",
     "text": [
      "Original string:  The quick Brown Fox name is FOX\n",
      "No of upper case string:  6\n",
      "No of lower case string:  19\n"
     ]
    }
   ],
   "source": [
    "def uclc(str2):\n",
    "    upper_case = 0\n",
    "    lower_case = 0\n",
    "    for i in str2:\n",
    "        if i.isupper():\n",
    "            upper_case += 1\n",
    "        elif i.islower():\n",
    "            lower_case += 1\n",
    "        else:\n",
    "            pass\n",
    "    print(\"Original string: \", str2)\n",
    "    print(\"No of upper case string: \", upper_case)\n",
    "    print(\"No of lower case string: \", lower_case)\n",
    "uclc(\"The quick Brown Fox name is FOX\")"
   ]
  },
  {
   "cell_type": "code",
   "execution_count": null,
   "id": "8193f350",
   "metadata": {},
   "outputs": [],
   "source": []
  }
 ],
 "metadata": {
  "kernelspec": {
   "display_name": "Python 3 (ipykernel)",
   "language": "python",
   "name": "python3"
  },
  "language_info": {
   "codemirror_mode": {
    "name": "ipython",
    "version": 3
   },
   "file_extension": ".py",
   "mimetype": "text/x-python",
   "name": "python",
   "nbconvert_exporter": "python",
   "pygments_lexer": "ipython3",
   "version": "3.10.6"
  }
 },
 "nbformat": 4,
 "nbformat_minor": 5
}
